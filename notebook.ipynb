{
 "cells": [
  {
   "cell_type": "markdown",
   "id": "440632db",
   "metadata": {},
   "source": [
    "# My Module"
   ]
  },
  {
   "cell_type": "code",
   "execution_count": 2,
   "id": "3ecbf3b9",
   "metadata": {},
   "outputs": [],
   "source": [
    "import mymodule as m"
   ]
  },
  {
   "cell_type": "code",
   "execution_count": 3,
   "id": "51fea247",
   "metadata": {},
   "outputs": [
    {
     "name": "stdout",
     "output_type": "stream",
     "text": [
      "mymodule reloaded\n"
     ]
    }
   ],
   "source": [
    "m.reload()"
   ]
  }
 ],
 "metadata": {
  "kernelspec": {
   "display_name": "Python 3 (ipykernel)",
   "language": "python",
   "name": "python3"
  },
  "language_info": {
   "codemirror_mode": {
    "name": "ipython",
    "version": 3
   },
   "file_extension": ".py",
   "mimetype": "text/x-python",
   "name": "python",
   "nbconvert_exporter": "python",
   "pygments_lexer": "ipython3",
   "version": "3.9.13"
  }
 },
 "nbformat": 4,
 "nbformat_minor": 5
}
